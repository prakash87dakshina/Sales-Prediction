{
  "nbformat": 4,
  "nbformat_minor": 0,
  "metadata": {
    "colab": {
      "name": "Sales Prediction Project.ipynb",
      "provenance": [],
      "toc_visible": true,
      "authorship_tag": "ABX9TyN1k8I5NSNe99xCwOjmHkQ9",
      "include_colab_link": true
    },
    "kernelspec": {
      "name": "python3",
      "display_name": "Python 3"
    },
    "language_info": {
      "name": "python"
    }
  },
  "cells": [
    {
      "cell_type": "markdown",
      "metadata": {
        "id": "view-in-github",
        "colab_type": "text"
      },
      "source": [
        "<a href=\"https://colab.research.google.com/github/jacobmlloyd/sales-prediction/blob/main/Sales_Prediction_Project.ipynb\" target=\"_parent\"><img src=\"https://colab.research.google.com/assets/colab-badge.svg\" alt=\"Open In Colab\"/></a>"
      ]
    },
    {
      "cell_type": "markdown",
      "source": [
        "<h1><b>Sales Projection Project</b></h1>\n",
        "<h2>Programmed By: Jacob Lloyd <br>\n",
        "February - March 2022 </h2>\n",
        "In this project we will use previously captured data to predict sales at various store outlets for the benefit of the retail chain."
      ],
      "metadata": {
        "id": "OlpQJXwZNfi-"
      }
    },
    {
      "cell_type": "markdown",
      "source": [
        "# Import Required Libraries & Clean the Data"
      ],
      "metadata": {
        "id": "-46AKz9dRCOo"
      }
    },
    {
      "cell_type": "markdown",
      "source": [
        "## <h2>Importing Required Libraries</h2>\n",
        "\n"
      ],
      "metadata": {
        "id": "zKZvi1AGTfak"
      }
    },
    {
      "cell_type": "code",
      "execution_count": 275,
      "metadata": {
        "colab": {
          "base_uri": "https://localhost:8080/"
        },
        "id": "-bX_3T-wM4o-",
        "outputId": "53ea1017-2b45-4f23-ddf7-b156ada63e1c"
      },
      "outputs": [
        {
          "output_type": "stream",
          "name": "stdout",
          "text": [
            "Drive already mounted at /content/drive; to attempt to forcibly remount, call drive.mount(\"/content/drive\", force_remount=True).\n"
          ]
        }
      ],
      "source": [
        "# Data Imports\n",
        "import numpy as np\n",
        "import pandas as pd\n",
        "\n",
        "# Visualization Imports\n",
        "import seaborn as sns\n",
        "import matplotlib.pyplot as plt\n",
        "\n",
        "# SKLearn Imports\n",
        "from sklearn.preprocessing import StandardScaler, OneHotEncoder\n",
        "from sklearn.impute import SimpleImputer\n",
        "from sklearn.compose import make_column_transformer, make_column_selector\n",
        "from sklearn.pipeline import make_pipeline\n",
        "from sklearn.model_selection import train_test_split\n",
        "from sklearn.linear_model import LinearRegression\n",
        "from sklearn.tree import DecisionTreeRegressor\n",
        "from sklearn.metrics import mean_squared_error\n",
        "from sklearn import set_config\n",
        "set_config(display='diagram')\n",
        "\n",
        "# Google Drive Import + Mount\n",
        "from google.colab import drive\n",
        "drive.mount('/content/drive')"
      ]
    },
    {
      "cell_type": "markdown",
      "source": [
        "## <h2>Load and View the Data</h2>"
      ],
      "metadata": {
        "id": "suRhwBS7Tjsk"
      }
    },
    {
      "cell_type": "code",
      "source": [
        "filename = '/content/drive/My Drive/The Coding Dojo - Data Science/sales_predictions.csv'\n",
        "df = pd.read_csv(filename, index_col='Item_Identifier')\n",
        "\n",
        "df.head()"
      ],
      "metadata": {
        "colab": {
          "base_uri": "https://localhost:8080/",
          "height": 388
        },
        "id": "yf81A8twTote",
        "outputId": "22b47563-58f5-46b1-b825-c7a3c90c8537"
      },
      "execution_count": 231,
      "outputs": [
        {
          "output_type": "execute_result",
          "data": {
            "text/plain": [
              "                 Item_Weight Item_Fat_Content  Item_Visibility  \\\n",
              "Item_Identifier                                                  \n",
              "FDA15                   9.30          Low Fat         0.016047   \n",
              "DRC01                   5.92          Regular         0.019278   \n",
              "FDN15                  17.50          Low Fat         0.016760   \n",
              "FDX07                  19.20          Regular         0.000000   \n",
              "NCD19                   8.93          Low Fat         0.000000   \n",
              "\n",
              "                             Item_Type  Item_MRP Outlet_Identifier  \\\n",
              "Item_Identifier                                                      \n",
              "FDA15                            Dairy  249.8092            OUT049   \n",
              "DRC01                      Soft Drinks   48.2692            OUT018   \n",
              "FDN15                             Meat  141.6180            OUT049   \n",
              "FDX07            Fruits and Vegetables  182.0950            OUT010   \n",
              "NCD19                        Household   53.8614            OUT013   \n",
              "\n",
              "                 Outlet_Establishment_Year Outlet_Size Outlet_Location_Type  \\\n",
              "Item_Identifier                                                               \n",
              "FDA15                                 1999      Medium               Tier 1   \n",
              "DRC01                                 2009      Medium               Tier 3   \n",
              "FDN15                                 1999      Medium               Tier 1   \n",
              "FDX07                                 1998         NaN               Tier 3   \n",
              "NCD19                                 1987        High               Tier 3   \n",
              "\n",
              "                       Outlet_Type  Item_Outlet_Sales  \n",
              "Item_Identifier                                        \n",
              "FDA15            Supermarket Type1          3735.1380  \n",
              "DRC01            Supermarket Type2           443.4228  \n",
              "FDN15            Supermarket Type1          2097.2700  \n",
              "FDX07                Grocery Store           732.3800  \n",
              "NCD19            Supermarket Type1           994.7052  "
            ],
            "text/html": [
              "\n",
              "  <div id=\"df-159605a4-c35e-4fa0-9977-ed3d02151a8f\">\n",
              "    <div class=\"colab-df-container\">\n",
              "      <div>\n",
              "<style scoped>\n",
              "    .dataframe tbody tr th:only-of-type {\n",
              "        vertical-align: middle;\n",
              "    }\n",
              "\n",
              "    .dataframe tbody tr th {\n",
              "        vertical-align: top;\n",
              "    }\n",
              "\n",
              "    .dataframe thead th {\n",
              "        text-align: right;\n",
              "    }\n",
              "</style>\n",
              "<table border=\"1\" class=\"dataframe\">\n",
              "  <thead>\n",
              "    <tr style=\"text-align: right;\">\n",
              "      <th></th>\n",
              "      <th>Item_Weight</th>\n",
              "      <th>Item_Fat_Content</th>\n",
              "      <th>Item_Visibility</th>\n",
              "      <th>Item_Type</th>\n",
              "      <th>Item_MRP</th>\n",
              "      <th>Outlet_Identifier</th>\n",
              "      <th>Outlet_Establishment_Year</th>\n",
              "      <th>Outlet_Size</th>\n",
              "      <th>Outlet_Location_Type</th>\n",
              "      <th>Outlet_Type</th>\n",
              "      <th>Item_Outlet_Sales</th>\n",
              "    </tr>\n",
              "    <tr>\n",
              "      <th>Item_Identifier</th>\n",
              "      <th></th>\n",
              "      <th></th>\n",
              "      <th></th>\n",
              "      <th></th>\n",
              "      <th></th>\n",
              "      <th></th>\n",
              "      <th></th>\n",
              "      <th></th>\n",
              "      <th></th>\n",
              "      <th></th>\n",
              "      <th></th>\n",
              "    </tr>\n",
              "  </thead>\n",
              "  <tbody>\n",
              "    <tr>\n",
              "      <th>FDA15</th>\n",
              "      <td>9.30</td>\n",
              "      <td>Low Fat</td>\n",
              "      <td>0.016047</td>\n",
              "      <td>Dairy</td>\n",
              "      <td>249.8092</td>\n",
              "      <td>OUT049</td>\n",
              "      <td>1999</td>\n",
              "      <td>Medium</td>\n",
              "      <td>Tier 1</td>\n",
              "      <td>Supermarket Type1</td>\n",
              "      <td>3735.1380</td>\n",
              "    </tr>\n",
              "    <tr>\n",
              "      <th>DRC01</th>\n",
              "      <td>5.92</td>\n",
              "      <td>Regular</td>\n",
              "      <td>0.019278</td>\n",
              "      <td>Soft Drinks</td>\n",
              "      <td>48.2692</td>\n",
              "      <td>OUT018</td>\n",
              "      <td>2009</td>\n",
              "      <td>Medium</td>\n",
              "      <td>Tier 3</td>\n",
              "      <td>Supermarket Type2</td>\n",
              "      <td>443.4228</td>\n",
              "    </tr>\n",
              "    <tr>\n",
              "      <th>FDN15</th>\n",
              "      <td>17.50</td>\n",
              "      <td>Low Fat</td>\n",
              "      <td>0.016760</td>\n",
              "      <td>Meat</td>\n",
              "      <td>141.6180</td>\n",
              "      <td>OUT049</td>\n",
              "      <td>1999</td>\n",
              "      <td>Medium</td>\n",
              "      <td>Tier 1</td>\n",
              "      <td>Supermarket Type1</td>\n",
              "      <td>2097.2700</td>\n",
              "    </tr>\n",
              "    <tr>\n",
              "      <th>FDX07</th>\n",
              "      <td>19.20</td>\n",
              "      <td>Regular</td>\n",
              "      <td>0.000000</td>\n",
              "      <td>Fruits and Vegetables</td>\n",
              "      <td>182.0950</td>\n",
              "      <td>OUT010</td>\n",
              "      <td>1998</td>\n",
              "      <td>NaN</td>\n",
              "      <td>Tier 3</td>\n",
              "      <td>Grocery Store</td>\n",
              "      <td>732.3800</td>\n",
              "    </tr>\n",
              "    <tr>\n",
              "      <th>NCD19</th>\n",
              "      <td>8.93</td>\n",
              "      <td>Low Fat</td>\n",
              "      <td>0.000000</td>\n",
              "      <td>Household</td>\n",
              "      <td>53.8614</td>\n",
              "      <td>OUT013</td>\n",
              "      <td>1987</td>\n",
              "      <td>High</td>\n",
              "      <td>Tier 3</td>\n",
              "      <td>Supermarket Type1</td>\n",
              "      <td>994.7052</td>\n",
              "    </tr>\n",
              "  </tbody>\n",
              "</table>\n",
              "</div>\n",
              "      <button class=\"colab-df-convert\" onclick=\"convertToInteractive('df-159605a4-c35e-4fa0-9977-ed3d02151a8f')\"\n",
              "              title=\"Convert this dataframe to an interactive table.\"\n",
              "              style=\"display:none;\">\n",
              "        \n",
              "  <svg xmlns=\"http://www.w3.org/2000/svg\" height=\"24px\"viewBox=\"0 0 24 24\"\n",
              "       width=\"24px\">\n",
              "    <path d=\"M0 0h24v24H0V0z\" fill=\"none\"/>\n",
              "    <path d=\"M18.56 5.44l.94 2.06.94-2.06 2.06-.94-2.06-.94-.94-2.06-.94 2.06-2.06.94zm-11 1L8.5 8.5l.94-2.06 2.06-.94-2.06-.94L8.5 2.5l-.94 2.06-2.06.94zm10 10l.94 2.06.94-2.06 2.06-.94-2.06-.94-.94-2.06-.94 2.06-2.06.94z\"/><path d=\"M17.41 7.96l-1.37-1.37c-.4-.4-.92-.59-1.43-.59-.52 0-1.04.2-1.43.59L10.3 9.45l-7.72 7.72c-.78.78-.78 2.05 0 2.83L4 21.41c.39.39.9.59 1.41.59.51 0 1.02-.2 1.41-.59l7.78-7.78 2.81-2.81c.8-.78.8-2.07 0-2.86zM5.41 20L4 18.59l7.72-7.72 1.47 1.35L5.41 20z\"/>\n",
              "  </svg>\n",
              "      </button>\n",
              "      \n",
              "  <style>\n",
              "    .colab-df-container {\n",
              "      display:flex;\n",
              "      flex-wrap:wrap;\n",
              "      gap: 12px;\n",
              "    }\n",
              "\n",
              "    .colab-df-convert {\n",
              "      background-color: #E8F0FE;\n",
              "      border: none;\n",
              "      border-radius: 50%;\n",
              "      cursor: pointer;\n",
              "      display: none;\n",
              "      fill: #1967D2;\n",
              "      height: 32px;\n",
              "      padding: 0 0 0 0;\n",
              "      width: 32px;\n",
              "    }\n",
              "\n",
              "    .colab-df-convert:hover {\n",
              "      background-color: #E2EBFA;\n",
              "      box-shadow: 0px 1px 2px rgba(60, 64, 67, 0.3), 0px 1px 3px 1px rgba(60, 64, 67, 0.15);\n",
              "      fill: #174EA6;\n",
              "    }\n",
              "\n",
              "    [theme=dark] .colab-df-convert {\n",
              "      background-color: #3B4455;\n",
              "      fill: #D2E3FC;\n",
              "    }\n",
              "\n",
              "    [theme=dark] .colab-df-convert:hover {\n",
              "      background-color: #434B5C;\n",
              "      box-shadow: 0px 1px 3px 1px rgba(0, 0, 0, 0.15);\n",
              "      filter: drop-shadow(0px 1px 2px rgba(0, 0, 0, 0.3));\n",
              "      fill: #FFFFFF;\n",
              "    }\n",
              "  </style>\n",
              "\n",
              "      <script>\n",
              "        const buttonEl =\n",
              "          document.querySelector('#df-159605a4-c35e-4fa0-9977-ed3d02151a8f button.colab-df-convert');\n",
              "        buttonEl.style.display =\n",
              "          google.colab.kernel.accessAllowed ? 'block' : 'none';\n",
              "\n",
              "        async function convertToInteractive(key) {\n",
              "          const element = document.querySelector('#df-159605a4-c35e-4fa0-9977-ed3d02151a8f');\n",
              "          const dataTable =\n",
              "            await google.colab.kernel.invokeFunction('convertToInteractive',\n",
              "                                                     [key], {});\n",
              "          if (!dataTable) return;\n",
              "\n",
              "          const docLinkHtml = 'Like what you see? Visit the ' +\n",
              "            '<a target=\"_blank\" href=https://colab.research.google.com/notebooks/data_table.ipynb>data table notebook</a>'\n",
              "            + ' to learn more about interactive tables.';\n",
              "          element.innerHTML = '';\n",
              "          dataTable['output_type'] = 'display_data';\n",
              "          await google.colab.output.renderOutput(dataTable, element);\n",
              "          const docLink = document.createElement('div');\n",
              "          docLink.innerHTML = docLinkHtml;\n",
              "          element.appendChild(docLink);\n",
              "        }\n",
              "      </script>\n",
              "    </div>\n",
              "  </div>\n",
              "  "
            ]
          },
          "metadata": {},
          "execution_count": 231
        }
      ]
    },
    {
      "cell_type": "markdown",
      "source": [
        "<p> Display the Rows/Columns and DataTypes</p>"
      ],
      "metadata": {
        "id": "IOnBJPu9UHpf"
      }
    },
    {
      "cell_type": "code",
      "source": [
        "df.shape #8523 Rows, 12 Columns"
      ],
      "metadata": {
        "colab": {
          "base_uri": "https://localhost:8080/"
        },
        "id": "k1_X3XQXUHcN",
        "outputId": "5e38210f-fd78-4025-a0ee-384c8c13447a"
      },
      "execution_count": 232,
      "outputs": [
        {
          "output_type": "execute_result",
          "data": {
            "text/plain": [
              "(8523, 11)"
            ]
          },
          "metadata": {},
          "execution_count": 232
        }
      ]
    },
    {
      "cell_type": "code",
      "source": [
        "df.dtypes # Object, float64, and int64"
      ],
      "metadata": {
        "colab": {
          "base_uri": "https://localhost:8080/"
        },
        "id": "x1Ym4ttmUZXF",
        "outputId": "fdc3cc2f-1494-43b1-9a19-1375fdefcbe1"
      },
      "execution_count": 233,
      "outputs": [
        {
          "output_type": "execute_result",
          "data": {
            "text/plain": [
              "Item_Weight                  float64\n",
              "Item_Fat_Content              object\n",
              "Item_Visibility              float64\n",
              "Item_Type                     object\n",
              "Item_MRP                     float64\n",
              "Outlet_Identifier             object\n",
              "Outlet_Establishment_Year      int64\n",
              "Outlet_Size                   object\n",
              "Outlet_Location_Type          object\n",
              "Outlet_Type                   object\n",
              "Item_Outlet_Sales            float64\n",
              "dtype: object"
            ]
          },
          "metadata": {},
          "execution_count": 233
        }
      ]
    },
    {
      "cell_type": "markdown",
      "source": [
        "Inspect Duplicates"
      ],
      "metadata": {
        "id": "42FZNtPsUcoM"
      }
    },
    {
      "cell_type": "code",
      "source": [
        "print(f\"There are {df.duplicated().sum()} duplicates\")"
      ],
      "metadata": {
        "colab": {
          "base_uri": "https://localhost:8080/"
        },
        "id": "JBRnr8SdUgT3",
        "outputId": "3b620346-6420-4778-c5ed-3ce5596c7a96"
      },
      "execution_count": 234,
      "outputs": [
        {
          "output_type": "stream",
          "name": "stdout",
          "text": [
            "There are 0 duplicates\n"
          ]
        }
      ]
    },
    {
      "cell_type": "markdown",
      "source": [
        "> No Duplicates"
      ],
      "metadata": {
        "id": "azze4l9mVgAN"
      }
    },
    {
      "cell_type": "markdown",
      "source": [
        "Identify Missing Values"
      ],
      "metadata": {
        "id": "paM_FwicUzL9"
      }
    },
    {
      "cell_type": "code",
      "source": [
        "print(df.isna().sum())"
      ],
      "metadata": {
        "colab": {
          "base_uri": "https://localhost:8080/"
        },
        "id": "Pqex6_xRVBB7",
        "outputId": "5717446d-d6a5-46cf-9bf3-c9f33c2e97b1"
      },
      "execution_count": 235,
      "outputs": [
        {
          "output_type": "stream",
          "name": "stdout",
          "text": [
            "Item_Weight                  1463\n",
            "Item_Fat_Content                0\n",
            "Item_Visibility                 0\n",
            "Item_Type                       0\n",
            "Item_MRP                        0\n",
            "Outlet_Identifier               0\n",
            "Outlet_Establishment_Year       0\n",
            "Outlet_Size                  2410\n",
            "Outlet_Location_Type            0\n",
            "Outlet_Type                     0\n",
            "Item_Outlet_Sales               0\n",
            "dtype: int64\n"
          ]
        }
      ]
    },
    {
      "cell_type": "markdown",
      "source": [
        " > Item_Weight and Outlet_Size have missing data"
      ],
      "metadata": {
        "id": "Ky-OAhbhVZcq"
      }
    },
    {
      "cell_type": "markdown",
      "source": [
        "Identify Inconsistent Values\n"
      ],
      "metadata": {
        "id": "r4qRUetQYE2b"
      }
    },
    {
      "cell_type": "code",
      "source": [
        "print(\"--------\")\n",
        "print(df['Item_Fat_Content'].value_counts())\n",
        "print(\"--------\")\n",
        "print(df['Item_Type'].value_counts())\n",
        "print(\"--------\")\n",
        "print(df['Outlet_Size'].value_counts())\n",
        "print(\"--------\")\n",
        "print(df['Outlet_Location_Type'].value_counts())\n",
        "print(\"--------\")\n",
        "print(df['Outlet_Type'].value_counts())\n",
        "print(\"--------\")"
      ],
      "metadata": {
        "colab": {
          "base_uri": "https://localhost:8080/"
        },
        "id": "xLwUm-pUYHkI",
        "outputId": "86f63192-fcbd-4bff-cbf1-e364c2c831d9"
      },
      "execution_count": 236,
      "outputs": [
        {
          "output_type": "stream",
          "name": "stdout",
          "text": [
            "--------\n",
            "Low Fat    5089\n",
            "Regular    2889\n",
            "LF          316\n",
            "reg         117\n",
            "low fat     112\n",
            "Name: Item_Fat_Content, dtype: int64\n",
            "--------\n",
            "Fruits and Vegetables    1232\n",
            "Snack Foods              1200\n",
            "Household                 910\n",
            "Frozen Foods              856\n",
            "Dairy                     682\n",
            "Canned                    649\n",
            "Baking Goods              648\n",
            "Health and Hygiene        520\n",
            "Soft Drinks               445\n",
            "Meat                      425\n",
            "Breads                    251\n",
            "Hard Drinks               214\n",
            "Others                    169\n",
            "Starchy Foods             148\n",
            "Breakfast                 110\n",
            "Seafood                    64\n",
            "Name: Item_Type, dtype: int64\n",
            "--------\n",
            "Medium    2793\n",
            "Small     2388\n",
            "High       932\n",
            "Name: Outlet_Size, dtype: int64\n",
            "--------\n",
            "Tier 3    3350\n",
            "Tier 2    2785\n",
            "Tier 1    2388\n",
            "Name: Outlet_Location_Type, dtype: int64\n",
            "--------\n",
            "Supermarket Type1    5577\n",
            "Grocery Store        1083\n",
            "Supermarket Type3     935\n",
            "Supermarket Type2     928\n",
            "Name: Outlet_Type, dtype: int64\n",
            "--------\n"
          ]
        }
      ]
    },
    {
      "cell_type": "markdown",
      "source": [
        "> Item_Fat_Content has inconsistencies (LF, reg, low fat)"
      ],
      "metadata": {
        "id": "s2K0NKSSYTGO"
      }
    },
    {
      "cell_type": "markdown",
      "source": [
        "View the numerical colmns summary to better understand the data"
      ],
      "metadata": {
        "id": "msEbVqcBYvS0"
      }
    },
    {
      "cell_type": "code",
      "source": [
        "df.describe()"
      ],
      "metadata": {
        "colab": {
          "base_uri": "https://localhost:8080/",
          "height": 300
        },
        "id": "uPzNDb7mY1XI",
        "outputId": "16d47e2e-c2dd-4dd4-eee6-2a3078bff6d5"
      },
      "execution_count": 237,
      "outputs": [
        {
          "output_type": "execute_result",
          "data": {
            "text/plain": [
              "       Item_Weight  Item_Visibility     Item_MRP  Outlet_Establishment_Year  \\\n",
              "count  7060.000000      8523.000000  8523.000000                8523.000000   \n",
              "mean     12.857645         0.066132   140.992782                1997.831867   \n",
              "std       4.643456         0.051598    62.275067                   8.371760   \n",
              "min       4.555000         0.000000    31.290000                1985.000000   \n",
              "25%       8.773750         0.026989    93.826500                1987.000000   \n",
              "50%      12.600000         0.053931   143.012800                1999.000000   \n",
              "75%      16.850000         0.094585   185.643700                2004.000000   \n",
              "max      21.350000         0.328391   266.888400                2009.000000   \n",
              "\n",
              "       Item_Outlet_Sales  \n",
              "count        8523.000000  \n",
              "mean         2181.288914  \n",
              "std          1706.499616  \n",
              "min            33.290000  \n",
              "25%           834.247400  \n",
              "50%          1794.331000  \n",
              "75%          3101.296400  \n",
              "max         13086.964800  "
            ],
            "text/html": [
              "\n",
              "  <div id=\"df-bc9499e0-441a-469e-8471-1fabf714fc59\">\n",
              "    <div class=\"colab-df-container\">\n",
              "      <div>\n",
              "<style scoped>\n",
              "    .dataframe tbody tr th:only-of-type {\n",
              "        vertical-align: middle;\n",
              "    }\n",
              "\n",
              "    .dataframe tbody tr th {\n",
              "        vertical-align: top;\n",
              "    }\n",
              "\n",
              "    .dataframe thead th {\n",
              "        text-align: right;\n",
              "    }\n",
              "</style>\n",
              "<table border=\"1\" class=\"dataframe\">\n",
              "  <thead>\n",
              "    <tr style=\"text-align: right;\">\n",
              "      <th></th>\n",
              "      <th>Item_Weight</th>\n",
              "      <th>Item_Visibility</th>\n",
              "      <th>Item_MRP</th>\n",
              "      <th>Outlet_Establishment_Year</th>\n",
              "      <th>Item_Outlet_Sales</th>\n",
              "    </tr>\n",
              "  </thead>\n",
              "  <tbody>\n",
              "    <tr>\n",
              "      <th>count</th>\n",
              "      <td>7060.000000</td>\n",
              "      <td>8523.000000</td>\n",
              "      <td>8523.000000</td>\n",
              "      <td>8523.000000</td>\n",
              "      <td>8523.000000</td>\n",
              "    </tr>\n",
              "    <tr>\n",
              "      <th>mean</th>\n",
              "      <td>12.857645</td>\n",
              "      <td>0.066132</td>\n",
              "      <td>140.992782</td>\n",
              "      <td>1997.831867</td>\n",
              "      <td>2181.288914</td>\n",
              "    </tr>\n",
              "    <tr>\n",
              "      <th>std</th>\n",
              "      <td>4.643456</td>\n",
              "      <td>0.051598</td>\n",
              "      <td>62.275067</td>\n",
              "      <td>8.371760</td>\n",
              "      <td>1706.499616</td>\n",
              "    </tr>\n",
              "    <tr>\n",
              "      <th>min</th>\n",
              "      <td>4.555000</td>\n",
              "      <td>0.000000</td>\n",
              "      <td>31.290000</td>\n",
              "      <td>1985.000000</td>\n",
              "      <td>33.290000</td>\n",
              "    </tr>\n",
              "    <tr>\n",
              "      <th>25%</th>\n",
              "      <td>8.773750</td>\n",
              "      <td>0.026989</td>\n",
              "      <td>93.826500</td>\n",
              "      <td>1987.000000</td>\n",
              "      <td>834.247400</td>\n",
              "    </tr>\n",
              "    <tr>\n",
              "      <th>50%</th>\n",
              "      <td>12.600000</td>\n",
              "      <td>0.053931</td>\n",
              "      <td>143.012800</td>\n",
              "      <td>1999.000000</td>\n",
              "      <td>1794.331000</td>\n",
              "    </tr>\n",
              "    <tr>\n",
              "      <th>75%</th>\n",
              "      <td>16.850000</td>\n",
              "      <td>0.094585</td>\n",
              "      <td>185.643700</td>\n",
              "      <td>2004.000000</td>\n",
              "      <td>3101.296400</td>\n",
              "    </tr>\n",
              "    <tr>\n",
              "      <th>max</th>\n",
              "      <td>21.350000</td>\n",
              "      <td>0.328391</td>\n",
              "      <td>266.888400</td>\n",
              "      <td>2009.000000</td>\n",
              "      <td>13086.964800</td>\n",
              "    </tr>\n",
              "  </tbody>\n",
              "</table>\n",
              "</div>\n",
              "      <button class=\"colab-df-convert\" onclick=\"convertToInteractive('df-bc9499e0-441a-469e-8471-1fabf714fc59')\"\n",
              "              title=\"Convert this dataframe to an interactive table.\"\n",
              "              style=\"display:none;\">\n",
              "        \n",
              "  <svg xmlns=\"http://www.w3.org/2000/svg\" height=\"24px\"viewBox=\"0 0 24 24\"\n",
              "       width=\"24px\">\n",
              "    <path d=\"M0 0h24v24H0V0z\" fill=\"none\"/>\n",
              "    <path d=\"M18.56 5.44l.94 2.06.94-2.06 2.06-.94-2.06-.94-.94-2.06-.94 2.06-2.06.94zm-11 1L8.5 8.5l.94-2.06 2.06-.94-2.06-.94L8.5 2.5l-.94 2.06-2.06.94zm10 10l.94 2.06.94-2.06 2.06-.94-2.06-.94-.94-2.06-.94 2.06-2.06.94z\"/><path d=\"M17.41 7.96l-1.37-1.37c-.4-.4-.92-.59-1.43-.59-.52 0-1.04.2-1.43.59L10.3 9.45l-7.72 7.72c-.78.78-.78 2.05 0 2.83L4 21.41c.39.39.9.59 1.41.59.51 0 1.02-.2 1.41-.59l7.78-7.78 2.81-2.81c.8-.78.8-2.07 0-2.86zM5.41 20L4 18.59l7.72-7.72 1.47 1.35L5.41 20z\"/>\n",
              "  </svg>\n",
              "      </button>\n",
              "      \n",
              "  <style>\n",
              "    .colab-df-container {\n",
              "      display:flex;\n",
              "      flex-wrap:wrap;\n",
              "      gap: 12px;\n",
              "    }\n",
              "\n",
              "    .colab-df-convert {\n",
              "      background-color: #E8F0FE;\n",
              "      border: none;\n",
              "      border-radius: 50%;\n",
              "      cursor: pointer;\n",
              "      display: none;\n",
              "      fill: #1967D2;\n",
              "      height: 32px;\n",
              "      padding: 0 0 0 0;\n",
              "      width: 32px;\n",
              "    }\n",
              "\n",
              "    .colab-df-convert:hover {\n",
              "      background-color: #E2EBFA;\n",
              "      box-shadow: 0px 1px 2px rgba(60, 64, 67, 0.3), 0px 1px 3px 1px rgba(60, 64, 67, 0.15);\n",
              "      fill: #174EA6;\n",
              "    }\n",
              "\n",
              "    [theme=dark] .colab-df-convert {\n",
              "      background-color: #3B4455;\n",
              "      fill: #D2E3FC;\n",
              "    }\n",
              "\n",
              "    [theme=dark] .colab-df-convert:hover {\n",
              "      background-color: #434B5C;\n",
              "      box-shadow: 0px 1px 3px 1px rgba(0, 0, 0, 0.15);\n",
              "      filter: drop-shadow(0px 1px 2px rgba(0, 0, 0, 0.3));\n",
              "      fill: #FFFFFF;\n",
              "    }\n",
              "  </style>\n",
              "\n",
              "      <script>\n",
              "        const buttonEl =\n",
              "          document.querySelector('#df-bc9499e0-441a-469e-8471-1fabf714fc59 button.colab-df-convert');\n",
              "        buttonEl.style.display =\n",
              "          google.colab.kernel.accessAllowed ? 'block' : 'none';\n",
              "\n",
              "        async function convertToInteractive(key) {\n",
              "          const element = document.querySelector('#df-bc9499e0-441a-469e-8471-1fabf714fc59');\n",
              "          const dataTable =\n",
              "            await google.colab.kernel.invokeFunction('convertToInteractive',\n",
              "                                                     [key], {});\n",
              "          if (!dataTable) return;\n",
              "\n",
              "          const docLinkHtml = 'Like what you see? Visit the ' +\n",
              "            '<a target=\"_blank\" href=https://colab.research.google.com/notebooks/data_table.ipynb>data table notebook</a>'\n",
              "            + ' to learn more about interactive tables.';\n",
              "          element.innerHTML = '';\n",
              "          dataTable['output_type'] = 'display_data';\n",
              "          await google.colab.output.renderOutput(dataTable, element);\n",
              "          const docLink = document.createElement('div');\n",
              "          docLink.innerHTML = docLinkHtml;\n",
              "          element.appendChild(docLink);\n",
              "        }\n",
              "      </script>\n",
              "    </div>\n",
              "  </div>\n",
              "  "
            ]
          },
          "metadata": {},
          "execution_count": 237
        }
      ]
    },
    {
      "cell_type": "markdown",
      "source": [
        "## <h2>Clean the Data</h2>"
      ],
      "metadata": {
        "id": "XKbCW5TqVNm9"
      }
    },
    {
      "cell_type": "markdown",
      "source": [
        "### <p> NaN Values </p>"
      ],
      "metadata": {
        "id": "kUrIIPQjWzCh"
      }
    },
    {
      "cell_type": "markdown",
      "source": [
        "For Item_Weight we will use the average weight of all of the items so we don't skew the data values. It is a significant part of the data so we don't want to drop it. <br>\n",
        "For the missing outlet_sizes we will replace the NaN values with Unknown since there are 3 outlets, OUT013, OUT017, and OUT045 and we have no identifiers as to which each belong. It is a large portion of the data so we will avoid dropping it."
      ],
      "metadata": {
        "id": "dxmiYCwgV8zl"
      }
    },
    {
      "cell_type": "code",
      "source": [
        "average_weight = df['Item_Weight'].mean()\n",
        "df.loc[:, 'Item_Weight'].fillna(average_weight, inplace = True)\n",
        "df.loc[:, 'Outlet_Size'].fillna(\"Unknown\", inplace = True)\n",
        "df.info()"
      ],
      "metadata": {
        "colab": {
          "base_uri": "https://localhost:8080/"
        },
        "id": "BTSmH4ZRV1Cz",
        "outputId": "9aaaf4a1-2ea9-428a-b3f7-805273eca3ce"
      },
      "execution_count": 238,
      "outputs": [
        {
          "output_type": "stream",
          "name": "stdout",
          "text": [
            "<class 'pandas.core.frame.DataFrame'>\n",
            "Index: 8523 entries, FDA15 to DRG01\n",
            "Data columns (total 11 columns):\n",
            " #   Column                     Non-Null Count  Dtype  \n",
            "---  ------                     --------------  -----  \n",
            " 0   Item_Weight                8523 non-null   float64\n",
            " 1   Item_Fat_Content           8523 non-null   object \n",
            " 2   Item_Visibility            8523 non-null   float64\n",
            " 3   Item_Type                  8523 non-null   object \n",
            " 4   Item_MRP                   8523 non-null   float64\n",
            " 5   Outlet_Identifier          8523 non-null   object \n",
            " 6   Outlet_Establishment_Year  8523 non-null   int64  \n",
            " 7   Outlet_Size                8523 non-null   object \n",
            " 8   Outlet_Location_Type       8523 non-null   object \n",
            " 9   Outlet_Type                8523 non-null   object \n",
            " 10  Item_Outlet_Sales          8523 non-null   float64\n",
            "dtypes: float64(4), int64(1), object(6)\n",
            "memory usage: 799.0+ KB\n"
          ]
        }
      ]
    },
    {
      "cell_type": "markdown",
      "source": [
        "Let's confirm there are no other missing values"
      ],
      "metadata": {
        "id": "1vt2bgzzWvs_"
      }
    },
    {
      "cell_type": "code",
      "source": [
        "print(df.isna().sum())"
      ],
      "metadata": {
        "colab": {
          "base_uri": "https://localhost:8080/"
        },
        "id": "2Lu7kjcLXGqx",
        "outputId": "e9ce0b07-a198-4299-fa50-54cd4b5a012a"
      },
      "execution_count": 239,
      "outputs": [
        {
          "output_type": "stream",
          "name": "stdout",
          "text": [
            "Item_Weight                  0\n",
            "Item_Fat_Content             0\n",
            "Item_Visibility              0\n",
            "Item_Type                    0\n",
            "Item_MRP                     0\n",
            "Outlet_Identifier            0\n",
            "Outlet_Establishment_Year    0\n",
            "Outlet_Size                  0\n",
            "Outlet_Location_Type         0\n",
            "Outlet_Type                  0\n",
            "Item_Outlet_Sales            0\n",
            "dtype: int64\n"
          ]
        }
      ]
    },
    {
      "cell_type": "markdown",
      "source": [
        "### <p> Inconsistent Values </p>"
      ],
      "metadata": {
        "id": "qMnC8rLLXe6D"
      }
    },
    {
      "cell_type": "code",
      "source": [
        "df['Item_Fat_Content'].replace('LF', 'Low Fat', inplace = True)\n",
        "df['Item_Fat_Content'].replace('low fat', 'Low Fat', inplace = True)\n",
        "df['Item_Fat_Content'].replace('reg', 'Regular', inplace = True)"
      ],
      "metadata": {
        "id": "Eh-xBESDXnal"
      },
      "execution_count": 240,
      "outputs": []
    },
    {
      "cell_type": "markdown",
      "source": [
        "# Exploratory Data Analysis"
      ],
      "metadata": {
        "id": "uIkUeMjdY-I1"
      }
    },
    {
      "cell_type": "markdown",
      "source": [
        "## <h2> Amount of Items compared to Item MRP </h2>"
      ],
      "metadata": {
        "id": "VqflkiuqZJRW"
      }
    },
    {
      "cell_type": "markdown",
      "source": [
        "<p> Let's set the standard to seaborn for our graph </p>"
      ],
      "metadata": {
        "id": "m_6hNtVFZ8H8"
      }
    },
    {
      "cell_type": "code",
      "source": [
        "plt.style.use('seaborn')"
      ],
      "metadata": {
        "id": "eZle5bCAZ762"
      },
      "execution_count": 241,
      "outputs": []
    },
    {
      "cell_type": "markdown",
      "source": [
        "<p> Histogram </p>"
      ],
      "metadata": {
        "id": "HzmYFSH7Zku4"
      }
    },
    {
      "cell_type": "code",
      "source": [
        "df.loc[df['Item_Fat_Content'] == \"Low Fat\", 'Item_MRP'].hist(edgecolor='black', label = \"Low Fat\")\n",
        "df.loc[df['Item_Fat_Content'] == \"Regular\", 'Item_MRP'].hist(edgecolor='black', label = \"Regular\", alpha = 0.5)\n",
        "plt.legend()\n",
        "plt.xlabel(\"Item_MRP\")\n",
        "plt.ylabel(\"Amount of Items\")\n",
        "plt.xticks(rotation = 45)\n",
        "plt.ticklabel_format(useOffset=False, style='plain')"
      ],
      "metadata": {
        "colab": {
          "base_uri": "https://localhost:8080/",
          "height": 370
        },
        "id": "hob54YE5ZJA7",
        "outputId": "53cea424-295a-42a5-ef42-5ec7cb0154fa"
      },
      "execution_count": 242,
      "outputs": [
        {
          "output_type": "display_data",
          "data": {
            "text/plain": [
              "<Figure size 576x396 with 1 Axes>"
            ],
            "image/png": "[encoded data removed]"
          },
          "metadata": {}
        }
      ]
    },
    {
      "cell_type": "markdown",
      "source": [
        "Based on the graph we can see that overall in the stores low fat items come with a higher cost than regular items. This data can be useful, especially after analyzing the sales of low fat and regular items, in determining where/how items are stocked and sold."
      ],
      "metadata": {
        "id": "X2Lje2HKZxfg"
      }
    },
    {
      "cell_type": "markdown",
      "source": [
        "## Correlation of Each Property"
      ],
      "metadata": {
        "id": "B9G6ULtnaNyK"
      }
    },
    {
      "cell_type": "markdown",
      "source": [
        "<p> Heatmap </p>"
      ],
      "metadata": {
        "id": "BASDbeJVaYOo"
      }
    },
    {
      "cell_type": "code",
      "source": [
        "corr = df.corr()\n",
        "sns.heatmap(corr, cmap = 'Greens', annot = True)"
      ],
      "metadata": {
        "colab": {
          "base_uri": "https://localhost:8080/",
          "height": 479
        },
        "id": "4XJBjZKbaX_v",
        "outputId": "8ebccedb-5377-4f24-b8f1-50489fb1fe3c"
      },
      "execution_count": 243,
      "outputs": [
        {
          "output_type": "execute_result",
          "data": {
            "text/plain": [
              "<matplotlib.axes._subplots.AxesSubplot at 0x7f95e3de7810>"
            ]
          },
          "metadata": {},
          "execution_count": 243
        },
        {
          "output_type": "display_data",
          "data": {
            "text/plain": [
              "<Figure size 576x396 with 2 Axes>"
            ],
            "image/png": "[encoded data removed]"
          },
          "metadata": {}
        }
      ]
    },
    {
      "cell_type": "markdown",
      "source": [
        "We can see using our heatmap that the Outlet Sales and Item MRP have a moderate correlation. This makes sense since, generally, the higher priced the item is the higher we would expect the sum of the sales of the item to be."
      ],
      "metadata": {
        "id": "dzlsOj9SadWh"
      }
    },
    {
      "cell_type": "markdown",
      "source": [
        "## Price of the Item Boxplot"
      ],
      "metadata": {
        "id": "tFP3x_HYasn3"
      }
    },
    {
      "cell_type": "markdown",
      "source": [
        "<p> View the boxplot of average price per item </p>"
      ],
      "metadata": {
        "id": "TmsBkIRGa1G0"
      }
    },
    {
      "cell_type": "code",
      "source": [
        "mrp = df['Item_MRP']\n",
        "sales = df['Item_Outlet_Sales']\n",
        "fig, axes = plt.subplots()\n",
        "boxplots = axes.boxplot([mrp],\n",
        "           labels=['MRP'],\n",
        "           patch_artist=True,\n",
        "           medianprops = dict(linestyle='-', linewidth=2, color='Yellow'),\n",
        "           boxprops = dict(linestyle='--', linewidth=2, color='Black', facecolor = 'blue', alpha = .4)\n",
        "          );\n",
        "boxplot1 = boxplots['boxes'][0]\n",
        "boxplot1.set_facecolor('red')\n",
        "plt.ylabel('Price of the Item', fontsize = 20);\n",
        "plt.xticks(fontsize = 16);\n",
        "plt.yticks(fontsize = 16);"
      ],
      "metadata": {
        "colab": {
          "base_uri": "https://localhost:8080/",
          "height": 352
        },
        "id": "drFOqAxzar1W",
        "outputId": "9b8d895b-2f7a-401f-9148-594795dc5b9c"
      },
      "execution_count": 244,
      "outputs": [
        {
          "output_type": "display_data",
          "data": {
            "text/plain": [
              "<Figure size 576x396 with 1 Axes>"
            ],
            "image/png": "[encoded data removed]"
          },
          "metadata": {}
        }
      ]
    },
    {
      "cell_type": "markdown",
      "source": [
        "Analyzing the average price per item, we can see that items typically don't exceed the $250 mark. Knowing the price of our items and how they affect our sales are important to be able to accurately project sales later on."
      ],
      "metadata": {
        "id": "DNWJvdq4bQiT"
      }
    },
    {
      "cell_type": "markdown",
      "source": [
        "## Barplot for Categorical Sales"
      ],
      "metadata": {
        "id": "Y1ELF2UUbR6S"
      }
    },
    {
      "cell_type": "markdown",
      "source": [
        "Look for any significant difference between item category and their sales amount"
      ],
      "metadata": {
        "id": "_rCsBKzfbeBV"
      }
    },
    {
      "cell_type": "code",
      "source": [
        "sns.barplot(data = df, x = \"Item_Type\", y = 'Item_Outlet_Sales')\n",
        "plt.ylabel(\"Item Sales\", fontsize = 16)\n",
        "plt.xlabel(\"Item Category\", fontsize = 16)\n",
        "plt.title(\"Comparison of Categorical Sales\", fontsize = 20)\n",
        "plt.xticks(rotation = 90)"
      ],
      "metadata": {
        "colab": {
          "base_uri": "https://localhost:8080/",
          "height": 509
        },
        "id": "3hwOh3Q4bnGB",
        "outputId": "84885acb-3cf3-460b-e765-f19381ff013d"
      },
      "execution_count": 245,
      "outputs": [
        {
          "output_type": "execute_result",
          "data": {
            "text/plain": [
              "(array([ 0,  1,  2,  3,  4,  5,  6,  7,  8,  9, 10, 11, 12, 13, 14, 15]),\n",
              " <a list of 16 Text major ticklabel objects>)"
            ]
          },
          "metadata": {},
          "execution_count": 245
        },
        {
          "output_type": "display_data",
          "data": {
            "text/plain": [
              "<Figure size 576x396 with 1 Axes>"
            ],
            "image/png": "[encoded data removed]"
          },
          "metadata": {}
        }
      ]
    },
    {
      "cell_type": "markdown",
      "source": [
        "There isn't any category that significantly outperforms any other."
      ],
      "metadata": {
        "id": "9aIiPAaAboCc"
      }
    },
    {
      "cell_type": "markdown",
      "source": [
        "## Item Price compared to Item Sales"
      ],
      "metadata": {
        "id": "cnLMx4p0b6EW"
      }
    },
    {
      "cell_type": "code",
      "source": [
        "fig, axes = plt.subplots()\n",
        "sns.scatterplot(data = df, y = \"Item_Outlet_Sales\", x = \"Item_MRP\")\n",
        "axes.set_xlabel(\"Item Price\", fontsize = 16)\n",
        "axes.set_ylabel(\"Item Sales\", fontsize = 16)\n",
        "fig.suptitle(\"How Item Price affects Sales\", fontsize = 20)\n",
        "plt.tight_layout()"
      ],
      "metadata": {
        "colab": {
          "base_uri": "https://localhost:8080/",
          "height": 408
        },
        "id": "uWuf37hEb_wr",
        "outputId": "63261b49-02ad-46d7-c319-b7b45b0e9369"
      },
      "execution_count": 246,
      "outputs": [
        {
          "output_type": "display_data",
          "data": {
            "text/plain": [
              "<Figure size 576x396 with 1 Axes>"
            ],
            "image/png": "[encoded data removed]"
          },
          "metadata": {}
        }
      ]
    },
    {
      "cell_type": "markdown",
      "source": [
        "Typically, the higher an items price is the more revenue in sales it brings in."
      ],
      "metadata": {
        "id": "tOEkMu6BcCDz"
      }
    },
    {
      "cell_type": "markdown",
      "source": [
        "# Preprocessing for Machine Learning\n"
      ],
      "metadata": {
        "id": "AWift_gzclFd"
      }
    },
    {
      "cell_type": "markdown",
      "source": [
        "## <h2> Identify Target and Features </h2>"
      ],
      "metadata": {
        "id": "AT0ePWuieak-"
      }
    },
    {
      "cell_type": "markdown",
      "source": [
        "Data Validation Split"
      ],
      "metadata": {
        "id": "8L_mfofpfUrL"
      }
    },
    {
      "cell_type": "code",
      "source": [
        "X = df.drop('Item_Outlet_Sales', axis = 1)\n",
        "y = df['Item_Outlet_Sales']\n",
        "X_train, X_test, y_train, y_test = train_test_split(X, y, random_state = 42)"
      ],
      "metadata": {
        "id": "Mt5GryOZeicG"
      },
      "execution_count": 247,
      "outputs": []
    },
    {
      "cell_type": "markdown",
      "source": [
        "## <h2> Instantiate Selectors </h2>"
      ],
      "metadata": {
        "id": "aGG07tlIfvWM"
      }
    },
    {
      "cell_type": "code",
      "source": [
        "# Create our selectors\n",
        "cat_selector = make_column_selector(dtype_include='object')\n",
        "num_selector = make_column_selector(dtype_include='number')\n",
        "\n",
        "cat_selector(X_train)\n",
        "num_selector(X_train)\n",
        "\n",
        "# Create Imputers\n",
        "freq_imputer = SimpleImputer(strategy='most_frequent')\n",
        "mean_imputer = SimpleImputer(strategy='mean')\n",
        "\n",
        "# Create Scaler & One-hot encoder\n",
        "ohe = OneHotEncoder(handle_unknown='ignore', sparse=False)\n",
        "scaler = StandardScaler()"
      ],
      "metadata": {
        "id": "9oZFYX7Ofy5Z"
      },
      "execution_count": 248,
      "outputs": []
    },
    {
      "cell_type": "markdown",
      "source": [
        "## <h2> Instantiate Pipelines </h2>"
      ],
      "metadata": {
        "id": "zPFjmKXOf4so"
      }
    },
    {
      "cell_type": "code",
      "source": [
        "# Create Pipelines\n",
        "categorical_pipeline = make_pipeline(freq_imputer, ohe)\n",
        "numeric_pipeline = make_pipeline(mean_imputer, scaler)\n",
        "\n",
        "# Create Tuples for Column Transformer\n",
        "category_tuple = (categorical_pipeline, cat_selector)\n",
        "number_tuple = (numeric_pipeline, num_selector)"
      ],
      "metadata": {
        "id": "ajr9yhF1f-2p"
      },
      "execution_count": 249,
      "outputs": []
    },
    {
      "cell_type": "markdown",
      "source": [
        "## <h2> Instantiate Column Transformer, Fit, and Transform"
      ],
      "metadata": {
        "id": "8STbD1WUgBDi"
      }
    },
    {
      "cell_type": "code",
      "source": [
        "# Create the Column Transformer\n",
        "preprocessor = make_column_transformer(category_tuple, number_tuple)\n",
        "\n",
        "# Fit on Training Set\n",
        "preprocessor.fit(X_train)\n",
        "\n",
        "# Transform Data\n",
        "X_train_processed = preprocessor.transform(X_train)\n",
        "X_test_processed = preprocessor.transform(X_test)"
      ],
      "metadata": {
        "id": "hfL4MMDogAqi"
      },
      "execution_count": 250,
      "outputs": []
    },
    {
      "cell_type": "markdown",
      "source": [
        "## <h2> Look at Pre-Processed Data </h2>"
      ],
      "metadata": {
        "id": "xW6K8zpagiaw"
      }
    },
    {
      "cell_type": "markdown",
      "source": [
        "Inspecting for missing values"
      ],
      "metadata": {
        "id": "KDTN7A4xg6H7"
      }
    },
    {
      "cell_type": "code",
      "source": [
        "print(np.isnan(X_train_processed).sum().sum(), 'missing values in training data')\n",
        "print(np.isnan(X_test_processed).sum().sum(), 'missing values in testing data')"
      ],
      "metadata": {
        "colab": {
          "base_uri": "https://localhost:8080/"
        },
        "id": "UvSqf_ypgoey",
        "outputId": "5ca0e478-d66d-4c0c-a138-d7c695a4a84b"
      },
      "execution_count": 251,
      "outputs": [
        {
          "output_type": "stream",
          "name": "stdout",
          "text": [
            "0 missing values in training data\n",
            "0 missing values in testing data\n"
          ]
        }
      ]
    },
    {
      "cell_type": "markdown",
      "source": [
        "# <h1> Processing Data </h1>"
      ],
      "metadata": {
        "id": "_fmziopB0aBd"
      }
    },
    {
      "cell_type": "markdown",
      "source": [
        "## <h2> Linear Regression Model<h2>"
      ],
      "metadata": {
        "id": "JiHHB-9n0eyy"
      }
    },
    {
      "cell_type": "markdown",
      "source": [
        "Instatiate the model"
      ],
      "metadata": {
        "id": "d50oV2Mz1Ekt"
      }
    },
    {
      "cell_type": "code",
      "source": [
        "lr = LinearRegression()\n",
        "lr.fit(X_train_processed, y_train);"
      ],
      "metadata": {
        "id": "LLTE2O1D0nzf"
      },
      "execution_count": 254,
      "outputs": []
    },
    {
      "cell_type": "markdown",
      "source": [
        "Predict the data"
      ],
      "metadata": {
        "id": "CBpWGSF62P2n"
      }
    },
    {
      "cell_type": "code",
      "source": [
        "train_preds = lr.predict(X_train_processed)\n",
        "test_preds = lr.predict(X_test_processed)"
      ],
      "metadata": {
        "id": "qhk0LZKi2Q0q"
      },
      "execution_count": 258,
      "outputs": []
    },
    {
      "cell_type": "markdown",
      "source": [
        "Evaluate the performance"
      ],
      "metadata": {
        "id": "vEzwqQQI1JSR"
      }
    },
    {
      "cell_type": "code",
      "source": [
        "lr_train_score = lr.score(X_train_processed, y_train)\n",
        "lr_test_score = lr.score(X_test_processed, y_test)\n",
        "print(f\"Linear Regression Train R^2 Score: {lr_train_score}\")\n",
        "print(f\"Linear Regression Test R^2 Score: {lr_test_score}\")"
      ],
      "metadata": {
        "colab": {
          "base_uri": "https://localhost:8080/"
        },
        "id": "ojzMxP_71Ghd",
        "outputId": "37036d68-1a96-4d20-b59e-1e140903a02f"
      },
      "execution_count": 259,
      "outputs": [
        {
          "output_type": "stream",
          "name": "stdout",
          "text": [
            "Linear Regression Train R^2 Score: 0.5594470758968336\n",
            "Linear Regression Test R^2 Score: 0.5668261155895282\n"
          ]
        }
      ]
    },
    {
      "cell_type": "markdown",
      "source": [
        "Based on the R^2 score, our performance is quite unsatisfactory. Ideally another model will be more suited."
      ],
      "metadata": {
        "id": "7s-WfHxP3DWR"
      }
    },
    {
      "cell_type": "code",
      "source": [
        "rmse_train = np.sqrt(mean_squared_error(y_train, train_preds))\n",
        "rmse_test = np.sqrt(mean_squared_error(y_test, test_preds))\n",
        "print(f\"Linear Regression Train RMSE Score: {rmse_train}\")\n",
        "print(f\"Linear Regression Test RMSE Score: {rmse_test}\")"
      ],
      "metadata": {
        "colab": {
          "base_uri": "https://localhost:8080/"
        },
        "id": "9JQfxda019JU",
        "outputId": "73891c9b-aab1-4b0d-9ac2-c6ee6b28220b"
      },
      "execution_count": 262,
      "outputs": [
        {
          "output_type": "stream",
          "name": "stdout",
          "text": [
            "Linear Regression Train RMSE Score: 1141.8392462965055\n",
            "Linear Regression Test RMSE Score: 1093.2140269679476\n"
          ]
        }
      ]
    },
    {
      "cell_type": "markdown",
      "source": [
        "According to the RMSE Score, our model is about $1093 off (on average) for each prediction. This is not the results we were hoping for so we will move onto a regression tree model."
      ],
      "metadata": {
        "id": "Da5qp_Y43JO2"
      }
    },
    {
      "cell_type": "markdown",
      "source": [
        "## <h2> Regression Tree Model </h2>\n"
      ],
      "metadata": {
        "id": "LaigjSug3XTm"
      }
    },
    {
      "cell_type": "markdown",
      "source": [
        "Instatiate the model"
      ],
      "metadata": {
        "id": "ruBfjP2P3ezC"
      }
    },
    {
      "cell_type": "code",
      "source": [
        "dec_tree = DecisionTreeRegressor(random_state = 42)\n",
        "dec_tree.fit(X_train_processed, y_train)"
      ],
      "metadata": {
        "colab": {
          "base_uri": "https://localhost:8080/",
          "height": 74
        },
        "id": "VkUgvM1J3W-Q",
        "outputId": "d84217ab-238c-4122-aee6-2d05861b7543"
      },
      "execution_count": 279,
      "outputs": [
        {
          "output_type": "execute_result",
          "data": {
            "text/plain": [
              "DecisionTreeRegressor(random_state=42)"
            ],
            "text/html": [
              "<style>#sk-1cb31034-7bdb-4757-84e4-b2b27caaf5dd {color: black;background-color: white;}#sk-1cb31034-7bdb-4757-84e4-b2b27caaf5dd pre{padding: 0;}#sk-1cb31034-7bdb-4757-84e4-b2b27caaf5dd div.sk-toggleable {background-color: white;}#sk-1cb31034-7bdb-4757-84e4-b2b27caaf5dd label.sk-toggleable__label {cursor: pointer;display: block;width: 100%;margin-bottom: 0;padding: 0.3em;box-sizing: border-box;text-align: center;}#sk-1cb31034-7bdb-4757-84e4-b2b27caaf5dd label.sk-toggleable__label-arrow:before {content: \"▸\";float: left;margin-right: 0.25em;color: #696969;}#sk-1cb31034-7bdb-4757-84e4-b2b27caaf5dd label.sk-toggleable__label-arrow:hover:before {color: black;}#sk-1cb31034-7bdb-4757-84e4-b2b27caaf5dd div.sk-estimator:hover label.sk-toggleable__label-arrow:before {color: black;}#sk-1cb31034-7bdb-4757-84e4-b2b27caaf5dd div.sk-toggleable__content {max-height: 0;max-width: 0;overflow: hidden;text-align: left;background-color: #f0f8ff;}#sk-1cb31034-7bdb-4757-84e4-b2b27caaf5dd div.sk-toggleable__content pre {margin: 0.2em;color: black;border-radius: 0.25em;background-color: #f0f8ff;}#sk-1cb31034-7bdb-4757-84e4-b2b27caaf5dd input.sk-toggleable__control:checked~div.sk-toggleable__content {max-height: 200px;max-width: 100%;overflow: auto;}#sk-1cb31034-7bdb-4757-84e4-b2b27caaf5dd input.sk-toggleable__control:checked~label.sk-toggleable__label-arrow:before {content: \"▾\";}#sk-1cb31034-7bdb-4757-84e4-b2b27caaf5dd div.sk-estimator input.sk-toggleable__control:checked~label.sk-toggleable__label {background-color: #d4ebff;}#sk-1cb31034-7bdb-4757-84e4-b2b27caaf5dd div.sk-label input.sk-toggleable__control:checked~label.sk-toggleable__label {background-color: #d4ebff;}#sk-1cb31034-7bdb-4757-84e4-b2b27caaf5dd input.sk-hidden--visually {border: 0;clip: rect(1px 1px 1px 1px);clip: rect(1px, 1px, 1px, 1px);height: 1px;margin: -1px;overflow: hidden;padding: 0;position: absolute;width: 1px;}#sk-1cb31034-7bdb-4757-84e4-b2b27caaf5dd div.sk-estimator {font-family: monospace;background-color: #f0f8ff;border: 1px dotted black;border-radius: 0.25em;box-sizing: border-box;margin-bottom: 0.5em;}#sk-1cb31034-7bdb-4757-84e4-b2b27caaf5dd div.sk-estimator:hover {background-color: #d4ebff;}#sk-1cb31034-7bdb-4757-84e4-b2b27caaf5dd div.sk-parallel-item::after {content: \"\";width: 100%;border-bottom: 1px solid gray;flex-grow: 1;}#sk-1cb31034-7bdb-4757-84e4-b2b27caaf5dd div.sk-label:hover label.sk-toggleable__label {background-color: #d4ebff;}#sk-1cb31034-7bdb-4757-84e4-b2b27caaf5dd div.sk-serial::before {content: \"\";position: absolute;border-left: 1px solid gray;box-sizing: border-box;top: 2em;bottom: 0;left: 50%;}#sk-1cb31034-7bdb-4757-84e4-b2b27caaf5dd div.sk-serial {display: flex;flex-direction: column;align-items: center;background-color: white;padding-right: 0.2em;padding-left: 0.2em;}#sk-1cb31034-7bdb-4757-84e4-b2b27caaf5dd div.sk-item {z-index: 1;}#sk-1cb31034-7bdb-4757-84e4-b2b27caaf5dd div.sk-parallel {display: flex;align-items: stretch;justify-content: center;background-color: white;}#sk-1cb31034-7bdb-4757-84e4-b2b27caaf5dd div.sk-parallel::before {content: \"\";position: absolute;border-left: 1px solid gray;box-sizing: border-box;top: 2em;bottom: 0;left: 50%;}#sk-1cb31034-7bdb-4757-84e4-b2b27caaf5dd div.sk-parallel-item {display: flex;flex-direction: column;position: relative;background-color: white;}#sk-1cb31034-7bdb-4757-84e4-b2b27caaf5dd div.sk-parallel-item:first-child::after {align-self: flex-end;width: 50%;}#sk-1cb31034-7bdb-4757-84e4-b2b27caaf5dd div.sk-parallel-item:last-child::after {align-self: flex-start;width: 50%;}#sk-1cb31034-7bdb-4757-84e4-b2b27caaf5dd div.sk-parallel-item:only-child::after {width: 0;}#sk-1cb31034-7bdb-4757-84e4-b2b27caaf5dd div.sk-dashed-wrapped {border: 1px dashed gray;margin: 0 0.4em 0.5em 0.4em;box-sizing: border-box;padding-bottom: 0.4em;background-color: white;position: relative;}#sk-1cb31034-7bdb-4757-84e4-b2b27caaf5dd div.sk-label label {font-family: monospace;font-weight: bold;background-color: white;display: inline-block;line-height: 1.2em;}#sk-1cb31034-7bdb-4757-84e4-b2b27caaf5dd div.sk-label-container {position: relative;z-index: 2;text-align: center;}#sk-1cb31034-7bdb-4757-84e4-b2b27caaf5dd div.sk-container {/* jupyter's `normalize.less` sets `[hidden] { display: none; }` but bootstrap.min.css set `[hidden] { display: none !important; }` so we also need the `!important` here to be able to override the default hidden behavior on the sphinx rendered scikit-learn.org. See: https://github.com/scikit-learn/scikit-learn/issues/21755 */display: inline-block !important;position: relative;}#sk-1cb31034-7bdb-4757-84e4-b2b27caaf5dd div.sk-text-repr-fallback {display: none;}</style><div id=\"sk-1cb31034-7bdb-4757-84e4-b2b27caaf5dd\" class=\"sk-top-container\"><div class=\"sk-text-repr-fallback\"><pre>DecisionTreeRegressor(random_state=42)</pre><b>Please rerun this cell to show the HTML repr or trust the notebook.</b></div><div class=\"sk-container\" hidden><div class=\"sk-item\"><div class=\"sk-estimator sk-toggleable\"><input class=\"sk-toggleable__control sk-hidden--visually\" id=\"a766d8e1-189b-43eb-92fa-e904bf5c2107\" type=\"checkbox\" checked><label for=\"a766d8e1-189b-43eb-92fa-e904bf5c2107\" class=\"sk-toggleable__label sk-toggleable__label-arrow\">DecisionTreeRegressor</label><div class=\"sk-toggleable__content\"><pre>DecisionTreeRegressor(random_state=42)</pre></div></div></div></div></div>"
            ]
          },
          "metadata": {},
          "execution_count": 279
        }
      ]
    },
    {
      "cell_type": "markdown",
      "source": [
        "Evaluate the performance"
      ],
      "metadata": {
        "id": "pDtlskj_4Srm"
      }
    },
    {
      "cell_type": "code",
      "source": [
        "dec_tree_train_score = dec_tree.score(X_train_processed, y_train)\n",
        "dec_tree_test_score = dec_tree.score(X_test_processed, y_test)\n",
        "print(f\"Decision Tree R^2 Train Score: {dec_tree_train_score}\")\n",
        "print(f\"Decision Tree R^2 Test Score: {dec_tree_test_score}\")"
      ],
      "metadata": {
        "colab": {
          "base_uri": "https://localhost:8080/"
        },
        "id": "Qt-48rEq4SQx",
        "outputId": "c81aed24-09df-4044-8d3c-b234d9195968"
      },
      "execution_count": 284,
      "outputs": [
        {
          "output_type": "stream",
          "name": "stdout",
          "text": [
            "Decision Tree R^2 Train Score: 1.0\n",
            "Decision Tree R^2 Test Score: 0.20811562911898385\n"
          ]
        }
      ]
    },
    {
      "cell_type": "markdown",
      "source": [
        "We can see that the model is overfit from the difference in Training and Testing scores. Before we find the RMSE, let's fine tune the model."
      ],
      "metadata": {
        "id": "tVRXs6yo7eiq"
      }
    },
    {
      "cell_type": "markdown",
      "source": [
        "### <p> Fine Tune Regression Tree </p>"
      ],
      "metadata": {
        "id": "1jsj2Ofu770Y"
      }
    },
    {
      "cell_type": "markdown",
      "source": [
        "<p> First let's view parameters to see what the defaults are. </p>"
      ],
      "metadata": {
        "id": "Hg2xWEMT8HzD"
      }
    },
    {
      "cell_type": "code",
      "source": [
        "dec_tree.get_params()"
      ],
      "metadata": {
        "colab": {
          "base_uri": "https://localhost:8080/"
        },
        "id": "tm9Gb2Hn8CZB",
        "outputId": "c61a1a94-a2bf-4c8b-c2fb-dd8bd821f4f5"
      },
      "execution_count": 287,
      "outputs": [
        {
          "output_type": "execute_result",
          "data": {
            "text/plain": [
              "{'ccp_alpha': 0.0,\n",
              " 'criterion': 'squared_error',\n",
              " 'max_depth': None,\n",
              " 'max_features': None,\n",
              " 'max_leaf_nodes': None,\n",
              " 'min_impurity_decrease': 0.0,\n",
              " 'min_samples_leaf': 1,\n",
              " 'min_samples_split': 2,\n",
              " 'min_weight_fraction_leaf': 0.0,\n",
              " 'random_state': 42,\n",
              " 'splitter': 'best'}"
            ]
          },
          "metadata": {},
          "execution_count": 287
        }
      ]
    },
    {
      "cell_type": "code",
      "source": [
        "dec_tree.get_depth()"
      ],
      "metadata": {
        "colab": {
          "base_uri": "https://localhost:8080/"
        },
        "id": "-2kNhQp78O0n",
        "outputId": "9e21585b-305d-4fd1-d427-5ef83b49de75"
      },
      "execution_count": 288,
      "outputs": [
        {
          "output_type": "execute_result",
          "data": {
            "text/plain": [
              "40"
            ]
          },
          "metadata": {},
          "execution_count": 288
        }
      ]
    },
    {
      "cell_type": "markdown",
      "source": [
        "It is using a depth of 40, which is most likely not the most ideal. We are able to loop through other possible depths to search for better results. Let's check each possible depth between 1 and 45."
      ],
      "metadata": {
        "id": "FOfPso9X8Qrj"
      }
    },
    {
      "cell_type": "code",
      "source": [
        "max_depth_range = list(range(1, 45))\n",
        "r2 = []\n",
        "for depth in max_depth_range:\n",
        "    dec_tree = DecisionTreeRegressor(max_depth = depth, \n",
        "                             random_state = 42)\n",
        "    dec_tree.fit(X_train_processed, y_train)\n",
        "    score = dec_tree.score(X_test_processed, y_test)\n",
        "    r2.append(score)"
      ],
      "metadata": {
        "id": "omCX_ZRv8oHE"
      },
      "execution_count": 291,
      "outputs": []
    },
    {
      "cell_type": "markdown",
      "source": [
        "Let's view the different depths on a graph, to easily understand them."
      ],
      "metadata": {
        "id": "WdZy16QB8_L6"
      }
    },
    {
      "cell_type": "code",
      "source": [
        "plt.plot(max_depth_range, r2)\n",
        "plt.xlabel('Max Depths')\n",
        "plt.ylabel('R2');\n",
        "for a,b in zip(max_depth_range, r2): # Credit https://stackoverflow.com/a/36029361 Marvin W\n",
        "    plt.text(a, b, str(a))\n",
        "plt.show()"
      ],
      "metadata": {
        "colab": {
          "base_uri": "https://localhost:8080/",
          "height": 361
        },
        "id": "lvW_TWht9C5J",
        "outputId": "446aa6ba-e5a5-472f-dafa-c7c350999622"
      },
      "execution_count": 293,
      "outputs": [
        {
          "output_type": "display_data",
          "data": {
            "text/plain": [
              "<Figure size 576x396 with 1 Axes>"
            ],
            "image/png": "[encoded data removed]"
          },
          "metadata": {}
        }
      ]
    },
    {
      "cell_type": "markdown",
      "source": [
        "From this graph we can see that a depth of 5 is ideal for this model. Let's create another model with these params."
      ],
      "metadata": {
        "id": "szWguvnQ9PX1"
      }
    },
    {
      "cell_type": "code",
      "source": [
        "dec_tree_5 = DecisionTreeRegressor(max_depth = 5, random_state = 42)\n",
        "dec_tree_5.fit(X_train_processed, y_train);"
      ],
      "metadata": {
        "id": "3sYJudd79X-o"
      },
      "execution_count": 296,
      "outputs": []
    },
    {
      "cell_type": "markdown",
      "source": [
        "View our new R^2 Scores"
      ],
      "metadata": {
        "id": "xH_NL8T9-a_P"
      }
    },
    {
      "cell_type": "code",
      "source": [
        "dec_tree_5_train_score = dec_tree_5.score(X_train_processed, y_train)\n",
        "dec_tree_5_test_score = dec_tree_5.score(X_test_processed, y_test)\n",
        "print(f\"Decision Tree R^2 Train Score: {dec_tree_5_train_score}\")\n",
        "print(f\"Decision Tree R^2 Test Score: {dec_tree_5_test_score}\")"
      ],
      "metadata": {
        "colab": {
          "base_uri": "https://localhost:8080/"
        },
        "id": "calkZCVk9d9v",
        "outputId": "bc07a6fc-438b-4beb-ca4d-fd5b7c41f5dd"
      },
      "execution_count": 297,
      "outputs": [
        {
          "output_type": "stream",
          "name": "stdout",
          "text": [
            "Decision Tree R^2 Train Score: 0.6039397477322956\n",
            "Decision Tree R^2 Test Score: 0.5947099753159973\n"
          ]
        }
      ]
    },
    {
      "cell_type": "markdown",
      "source": [
        "This model performs much better than the overfit data from earlier. It also outperforms our Linear Regression model."
      ],
      "metadata": {
        "id": "p_5nAkEv-dSX"
      }
    },
    {
      "cell_type": "markdown",
      "source": [
        "Create predictions based on the model"
      ],
      "metadata": {
        "id": "mBdPSvIJ-mJC"
      }
    },
    {
      "cell_type": "code",
      "source": [
        "dec_train_5_preds = dec_tree_5.predict(X_train_processed)\n",
        "dec_test_5_preds = dec_tree_5.predict(X_test_processed)"
      ],
      "metadata": {
        "id": "1wvm0Fvw9ypa"
      },
      "execution_count": 299,
      "outputs": []
    },
    {
      "cell_type": "code",
      "source": [
        "dec_tree_5_train_rmse = np.sqrt(mean_squared_error(y_train, dec_train_5_preds))\n",
        "dec_tree_5_test_rmse = np.sqrt(mean_squared_error(y_test, dec_test_5_preds))\n",
        "print(f\"Decision Tree Train RMSE Score: {dec_tree_5_train_rmse}\")\n",
        "print(f\"Decision Tree Test RMSE Score: {dec_tree_5_test_rmse}\")"
      ],
      "metadata": {
        "colab": {
          "base_uri": "https://localhost:8080/"
        },
        "id": "eAOGNXUt5m4q",
        "outputId": "7957dac3-0d24-42e7-d1ac-8413f370bc62"
      },
      "execution_count": 301,
      "outputs": [
        {
          "output_type": "stream",
          "name": "stdout",
          "text": [
            "Decision Tree Train RMSE Score: 1082.6461900869947\n",
            "Decision Tree Test RMSE Score: 1057.4431299496732\n"
          ]
        }
      ]
    },
    {
      "cell_type": "markdown",
      "source": [
        "Our RMSE shows us that we are about 40 points closer on our test data than with the linear regression model."
      ],
      "metadata": {
        "id": "TSe8nYB2-os1"
      }
    },
    {
      "cell_type": "markdown",
      "source": [
        "# <h1> Implementation </h1>"
      ],
      "metadata": {
        "id": "2yG7S4bm_Hz_"
      }
    },
    {
      "cell_type": "markdown",
      "source": [
        "<p> After using both Linear Regression and a Decision Tree Regression model, it is recommended you use a fine-tuned Decision Tree for implementation. The Decision Tree Regresion was more accurate both in R2 score as well as RMSE than a Linear Regression Model, and once fine-tuned, is more efficient. Overall, if the time and resources permit, I'd recommend exploring other types of models to see if you can create a more accurate prediction since even our Decision Tree is only 59.4% accurate in practice.</p>\n"
      ],
      "metadata": {
        "id": "gtTkmgyu_SWf"
      }
    }
  ]
}